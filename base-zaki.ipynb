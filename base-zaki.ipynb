{
 "cells": [
  {
   "cell_type": "code",
   "execution_count": 1,
   "metadata": {},
   "outputs": [],
   "source": [
    "import torch\n",
    "from torchvision import datasets\n",
    "from torch.utils.data import DataLoader\n",
    "from torchvision.transforms import ToTensor\n",
    "import torch.nn as nn"
   ]
  },
  {
   "cell_type": "markdown",
   "metadata": {},
   "source": [
    "### Import Fashion MNIST Dataset"
   ]
  },
  {
   "cell_type": "code",
   "execution_count": 2,
   "metadata": {},
   "outputs": [],
   "source": [
    "# Download and load the MNIST dataset\n",
    "train_dataset = datasets.FashionMNIST(root='./data', train=True, download=True, transform= ToTensor())\n",
    "test_dataset = datasets.FashionMNIST(root='./data', train=False, download=True, transform=ToTensor())"
   ]
  },
  {
   "cell_type": "markdown",
   "metadata": {},
   "source": [
    "### Dataloaders"
   ]
  },
  {
   "cell_type": "code",
   "execution_count": 3,
   "metadata": {},
   "outputs": [],
   "source": [
    "batch_size = 64\n",
    "train_dataloader = DataLoader(train_dataset, batch_size=batch_size, shuffle=True)\n",
    "test_dataloader = DataLoader(test_dataset, batch_size= batch_size, shuffle=False)"
   ]
  },
  {
   "cell_type": "markdown",
   "metadata": {},
   "source": [
    "### Define base CNN architecture"
   ]
  },
  {
   "cell_type": "code",
   "execution_count": 4,
   "metadata": {},
   "outputs": [],
   "source": [
    "# Define a simple CNN model\n",
    "class BaseCNN(nn.Module):\n",
    "    def __init__(self):\n",
    "        super(BaseCNN, self).__init__()\n",
    "        self.conv1 = nn.Conv2d(1, 32, kernel_size=5)\n",
    "        self.relu1 = nn.ReLU()\n",
    "        self.maxpool1 = nn.MaxPool2d(kernel_size=2)\n",
    "        self.conv2 = nn.Conv2d(32, 64, kernel_size=5)\n",
    "        self.relu2 = nn.ReLU()\n",
    "        self.maxpool2 = nn.MaxPool2d(kernel_size=2)\n",
    "        self.fc1 = nn.Linear(64 * 4 * 4, 128)\n",
    "        self.relu3 = nn.ReLU()\n",
    "        self.fc2 = nn.Linear(128, 10)\n",
    "\n",
    "    def forward(self, x):\n",
    "        x = self.conv1(x)\n",
    "        x = self.relu1(x)\n",
    "        x = self.maxpool1(x)\n",
    "        x = self.conv2(x)\n",
    "        x = self.relu2(x)\n",
    "        x = self.maxpool2(x)\n",
    "        x = x.view(x.size(0), -1)\n",
    "        x = self.fc1(x)\n",
    "        x = self.relu3(x)\n",
    "        x = self.fc2(x)\n",
    "        return x"
   ]
  },
  {
   "cell_type": "code",
   "execution_count": 5,
   "metadata": {},
   "outputs": [],
   "source": [
    "loss_fn = nn.CrossEntropyLoss()\n",
    "device = torch.device('cuda')\n",
    "model = BaseCNN().to(device)\n",
    "optimizer = torch.optim.Adam(model.parameters(), lr=0.001)"
   ]
  },
  {
   "cell_type": "markdown",
   "metadata": {},
   "source": [
    "### Train Function"
   ]
  },
  {
   "cell_type": "code",
   "execution_count": 6,
   "metadata": {},
   "outputs": [],
   "source": [
    "def train(train_loader, model, epochs):\n",
    "    for epoch in range(epochs):\n",
    "        model.train()\n",
    "        train_loss = 0.0\n",
    "        for images, labels in train_loader:\n",
    "            images, labels = images.to(device), labels.to(device)\n",
    "            optimizer.zero_grad()\n",
    "            output = model(images)\n",
    "            loss = loss_fn(output, labels)\n",
    "            loss.backward()\n",
    "            optimizer.step()\n",
    "            train_loss += loss.item()\n",
    "        # Calculate average training loss for the epoch\n",
    "        avg_train_loss = train_loss / len(train_dataloader)\n",
    "        print(f'Epoch {epoch + 1}/{epochs}, Train Loss: {avg_train_loss:.4f}')"
   ]
  },
  {
   "cell_type": "markdown",
   "metadata": {},
   "source": [
    "### Test Function"
   ]
  },
  {
   "cell_type": "code",
   "execution_count": 14,
   "metadata": {},
   "outputs": [],
   "source": [
    "def test(test_loader, model):\n",
    "    model.eval()\n",
    "    correct = 0\n",
    "    total = 0\n",
    "    test_loss = 0\n",
    "\n",
    "    with torch.no_grad():\n",
    "        for images, labels in test_loader:\n",
    "            images, labels = images.to(device), labels.to(device)\n",
    "            output = model(images)\n",
    "            loss = loss_fn(output, labels)\n",
    "            test_loss += loss.item()\n",
    "\n",
    "            _, predicted = torch.max(output, 1)\n",
    "            total += labels.size(0)\n",
    "            correct += (predicted == labels).sum().item()\n",
    "\n",
    "    # Calculate average validation loss and accuracy for the epoch\n",
    "    avg_test_loss = test_loss / len(test_dataloader)\n",
    "    accuracy = 100 * (correct / total)\n",
    "\n",
    "    return avg_test_loss, accuracy"
   ]
  },
  {
   "cell_type": "markdown",
   "metadata": {},
   "source": [
    "### Commence Training"
   ]
  },
  {
   "cell_type": "code",
   "execution_count": 8,
   "metadata": {},
   "outputs": [
    {
     "name": "stdout",
     "output_type": "stream",
     "text": [
      "Epoch 1/50, Train Loss: 0.5080\n",
      "Epoch 2/50, Train Loss: 0.3190\n",
      "Epoch 3/50, Train Loss: 0.2695\n",
      "Epoch 4/50, Train Loss: 0.2427\n",
      "Epoch 5/50, Train Loss: 0.2163\n",
      "Epoch 6/50, Train Loss: 0.1980\n",
      "Epoch 7/50, Train Loss: 0.1814\n",
      "Epoch 8/50, Train Loss: 0.1626\n",
      "Epoch 9/50, Train Loss: 0.1482\n",
      "Epoch 10/50, Train Loss: 0.1361\n",
      "Epoch 11/50, Train Loss: 0.1246\n",
      "Epoch 12/50, Train Loss: 0.1135\n",
      "Epoch 13/50, Train Loss: 0.1017\n",
      "Epoch 14/50, Train Loss: 0.0928\n",
      "Epoch 15/50, Train Loss: 0.0847\n",
      "Epoch 16/50, Train Loss: 0.0768\n",
      "Epoch 17/50, Train Loss: 0.0734\n",
      "Epoch 18/50, Train Loss: 0.0657\n",
      "Epoch 19/50, Train Loss: 0.0610\n",
      "Epoch 20/50, Train Loss: 0.0546\n",
      "Epoch 21/50, Train Loss: 0.0517\n",
      "Epoch 22/50, Train Loss: 0.0506\n",
      "Epoch 23/50, Train Loss: 0.0444\n",
      "Epoch 24/50, Train Loss: 0.0445\n",
      "Epoch 25/50, Train Loss: 0.0420\n",
      "Epoch 26/50, Train Loss: 0.0361\n",
      "Epoch 27/50, Train Loss: 0.0383\n",
      "Epoch 28/50, Train Loss: 0.0362\n",
      "Epoch 29/50, Train Loss: 0.0338\n",
      "Epoch 30/50, Train Loss: 0.0349\n",
      "Epoch 31/50, Train Loss: 0.0278\n",
      "Epoch 32/50, Train Loss: 0.0292\n",
      "Epoch 33/50, Train Loss: 0.0309\n",
      "Epoch 34/50, Train Loss: 0.0276\n",
      "Epoch 35/50, Train Loss: 0.0255\n",
      "Epoch 36/50, Train Loss: 0.0308\n",
      "Epoch 37/50, Train Loss: 0.0201\n",
      "Epoch 38/50, Train Loss: 0.0283\n",
      "Epoch 39/50, Train Loss: 0.0228\n",
      "Epoch 40/50, Train Loss: 0.0218\n",
      "Epoch 41/50, Train Loss: 0.0239\n",
      "Epoch 42/50, Train Loss: 0.0222\n",
      "Epoch 43/50, Train Loss: 0.0212\n",
      "Epoch 44/50, Train Loss: 0.0248\n",
      "Epoch 45/50, Train Loss: 0.0210\n",
      "Epoch 46/50, Train Loss: 0.0221\n",
      "Epoch 47/50, Train Loss: 0.0198\n",
      "Epoch 48/50, Train Loss: 0.0189\n",
      "Epoch 49/50, Train Loss: 0.0248\n",
      "Epoch 50/50, Train Loss: 0.0162\n"
     ]
    }
   ],
   "source": [
    "train(train_dataloader, model, 50)"
   ]
  },
  {
   "cell_type": "code",
   "execution_count": 16,
   "metadata": {},
   "outputs": [],
   "source": [
    "avg_test_loss, acc = test(test_dataloader, model)"
   ]
  },
  {
   "cell_type": "code",
   "execution_count": 18,
   "metadata": {},
   "outputs": [
    {
     "name": "stdout",
     "output_type": "stream",
     "text": [
      "Accuracy on base model: 90.93%\n"
     ]
    }
   ],
   "source": [
    "print(\"Accuracy on base model: \" + str(acc) + \"%\")"
   ]
  },
  {
   "cell_type": "code",
   "execution_count": null,
   "metadata": {},
   "outputs": [],
   "source": []
  }
 ],
 "metadata": {
  "kernelspec": {
   "display_name": "nn_project",
   "language": "python",
   "name": "python3"
  },
  "language_info": {
   "codemirror_mode": {
    "name": "ipython",
    "version": 3
   },
   "file_extension": ".py",
   "mimetype": "text/x-python",
   "name": "python",
   "nbconvert_exporter": "python",
   "pygments_lexer": "ipython3",
   "version": "3.9.18"
  }
 },
 "nbformat": 4,
 "nbformat_minor": 2
}
