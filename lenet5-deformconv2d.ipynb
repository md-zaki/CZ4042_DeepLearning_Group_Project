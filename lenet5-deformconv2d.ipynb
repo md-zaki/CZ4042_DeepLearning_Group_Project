{
 "cells": [
  {
   "cell_type": "markdown",
   "metadata": {},
   "source": [
    "# Lenet-5 Model with Deformable Convolution Layers"
   ]
  },
  {
   "cell_type": "code",
   "execution_count": 1,
   "metadata": {},
   "outputs": [],
   "source": [
    "import torch\n",
    "from torchvision import datasets\n",
    "from torch.utils.data import DataLoader\n",
    "from torchvision.transforms import ToTensor\n",
    "import torch.nn as nn\n",
    "import random\n",
    "import numpy as np\n",
    "from torchvision.ops import deform_conv2d\n",
    "from torchvision.ops import DeformConv2d\n",
    "device = torch.device('cuda')\n",
    "from torchvision.transforms import v2\n",
    "from torch.utils.data import default_collate"
   ]
  },
  {
   "cell_type": "markdown",
   "metadata": {},
   "source": [
    "### Import Fashion MNIST Dataset"
   ]
  },
  {
   "cell_type": "code",
   "execution_count": 2,
   "metadata": {},
   "outputs": [],
   "source": [
    "# Download and load the MNIST dataset\n",
    "train_dataset = datasets.FashionMNIST(root='./data', train=True, download=True, transform= ToTensor())\n",
    "test_dataset = datasets.FashionMNIST(root='./data', train=False, download=True, transform=ToTensor())"
   ]
  },
  {
   "cell_type": "markdown",
   "metadata": {},
   "source": [
    "### Set Seed"
   ]
  },
  {
   "cell_type": "code",
   "execution_count": 3,
   "metadata": {},
   "outputs": [],
   "source": [
    "seed = 0\n",
    "\n",
    "random.seed(seed)\n",
    "torch.manual_seed(seed)\n",
    "torch.cuda.manual_seed(seed)\n",
    "np.random.seed(seed)\n",
    "torch.cuda.manual_seed_all(seed)\n",
    "torch.backends.cudnn.deterministic = True\n",
    "torch.backends.cudnn.benchmark = False"
   ]
  },
  {
   "cell_type": "markdown",
   "metadata": {},
   "source": [
    "### Dataloaders with collate function for data augmentation using cutmix and mixup"
   ]
  },
  {
   "cell_type": "code",
   "execution_count": 4,
   "metadata": {},
   "outputs": [],
   "source": [
    "batch_size = 50\n",
    "cutmix = v2.CutMix(num_classes=10)\n",
    "mixup = v2.MixUp(num_classes=10)\n",
    "cutmix_or_mixup = v2.RandomChoice([cutmix, mixup])\n",
    "def collate_fn(batch):\n",
    "    return cutmix_or_mixup(*default_collate(batch))\n",
    "train_dataloader = DataLoader(train_dataset, batch_size=batch_size, shuffle=True, collate_fn=collate_fn)\n",
    "test_dataloader = DataLoader(test_dataset, batch_size= batch_size, shuffle=False)"
   ]
  },
  {
   "cell_type": "markdown",
   "metadata": {},
   "source": [
    "### Define LeNet5 CNN with Deformable Convolution Layers"
   ]
  },
  {
   "cell_type": "code",
   "execution_count": 5,
   "metadata": {},
   "outputs": [],
   "source": [
    "\n",
    "class LeNet5(nn.Module):\n",
    "    def __init__(self, input_shape=(1, 28, 28), num_classes=10):\n",
    "        super(LeNet5, self).__init__()\n",
    "        torch.manual_seed(seed)\n",
    "        self.offset1 = nn.Parameter(torch.randn(batch_size, 2*5*5, 24,24, requires_grad=True)*0.01)\n",
    "        self.offset2 = nn.Parameter(torch.randn(batch_size, 2*5*5, 8,8, requires_grad=True)*0.01)\n",
    "        \n",
    "        self.deformconv1 = DeformConv2d(1, 32, kernel_size=5, stride=1)\n",
    "        self.batchnorm1 = nn.BatchNorm2d(32)\n",
    "        self.relu1 = nn.ReLU()\n",
    "        self.maxpool1 = nn.MaxPool2d(kernel_size=2, stride=2)\n",
    "\n",
    "        self.deformconv2 = DeformConv2d(32, 64, kernel_size=5, stride=1)\n",
    "        self.batchnorm2 = nn.BatchNorm2d(64)\n",
    "        self.relu2 = nn.ReLU()\n",
    "        self.maxpool2 = nn.MaxPool2d(kernel_size=2, stride=2)\n",
    "        \n",
    "        self.classifier = nn.Sequential(\n",
    "            nn.Linear(64 * 4 * 4, 120),\n",
    "            nn.ReLU(),\n",
    "            nn.Linear(120, 84),\n",
    "            nn.ReLU(),\n",
    "            nn.Linear(84, num_classes)\n",
    "        )\n",
    "\n",
    "    def forward(self, x):\n",
    "        x = self.deformconv1(x, self.offset1)\n",
    "        x = self.batchnorm1(x)\n",
    "        x = self.relu1(x)\n",
    "        x = self.maxpool1(x)\n",
    "        \n",
    "        x = self.deformconv2(x, self.offset2)\n",
    "        x = self.batchnorm2(x)\n",
    "        x = self.relu2(x)\n",
    "        x = self.maxpool2(x)\n",
    "        \n",
    "        x = x.view(x.size(0), -1)\n",
    "        x = self.classifier(x)\n",
    "        return x"
   ]
  },
  {
   "cell_type": "code",
   "execution_count": 6,
   "metadata": {},
   "outputs": [],
   "source": [
    "loss_fn = nn.CrossEntropyLoss()\n",
    "device = torch.device('cuda')\n",
    "model = LeNet5().to(device)\n",
    "optimizer = torch.optim.Adam(model.parameters(), lr=0.001)"
   ]
  },
  {
   "cell_type": "markdown",
   "metadata": {},
   "source": [
    "### Train Function"
   ]
  },
  {
   "cell_type": "code",
   "execution_count": 7,
   "metadata": {},
   "outputs": [],
   "source": [
    "def train(train_loader, model, epochs):\n",
    "    for epoch in range(epochs):\n",
    "        model.train()\n",
    "        train_loss = 0.0\n",
    "        for images, labels in train_loader:\n",
    "            images, labels = images.to(device), labels.to(device)\n",
    "            optimizer.zero_grad()\n",
    "            output = model(images)\n",
    "            loss = loss_fn(output, labels)\n",
    "            loss.backward()\n",
    "            optimizer.step()\n",
    "            train_loss += loss.item()\n",
    "        # Calculate average training loss for the epoch\n",
    "        avg_train_loss = train_loss / len(train_dataloader)\n",
    "        print(f'Epoch {epoch + 1}/{epochs}, Train Loss: {avg_train_loss:.4f}')"
   ]
  },
  {
   "cell_type": "markdown",
   "metadata": {},
   "source": [
    "### Test Function"
   ]
  },
  {
   "cell_type": "code",
   "execution_count": 8,
   "metadata": {},
   "outputs": [],
   "source": [
    "def test(test_loader, model):\n",
    "    model.eval()\n",
    "    correct = 0\n",
    "    total = 0\n",
    "    test_loss = 0\n",
    "\n",
    "    with torch.no_grad():\n",
    "        for images, labels in test_loader:\n",
    "            images, labels = images.to(device), labels.to(device)\n",
    "            output = model(images)\n",
    "            loss = loss_fn(output, labels)\n",
    "            test_loss += loss.item()\n",
    "\n",
    "            _, predicted = torch.max(output, 1)\n",
    "            total += labels.size(0)\n",
    "            correct += (predicted == labels).sum().item()\n",
    "\n",
    "    # Calculate average validation loss and accuracy for the epoch\n",
    "    avg_test_loss = test_loss / len(test_dataloader)\n",
    "    accuracy = 100 * (correct / total)\n",
    "\n",
    "    return avg_test_loss, accuracy"
   ]
  },
  {
   "cell_type": "markdown",
   "metadata": {},
   "source": [
    "### Commence Training"
   ]
  },
  {
   "cell_type": "code",
   "execution_count": 9,
   "metadata": {},
   "outputs": [
    {
     "name": "stdout",
     "output_type": "stream",
     "text": [
      "Epoch 1/50, Train Loss: 1.1531\n",
      "Epoch 2/50, Train Loss: 1.0092\n",
      "Epoch 3/50, Train Loss: 0.9736\n",
      "Epoch 4/50, Train Loss: 0.9469\n",
      "Epoch 5/50, Train Loss: 0.9127\n",
      "Epoch 6/50, Train Loss: 0.9086\n",
      "Epoch 7/50, Train Loss: 0.9100\n",
      "Epoch 8/50, Train Loss: 0.8880\n",
      "Epoch 9/50, Train Loss: 0.8739\n",
      "Epoch 10/50, Train Loss: 0.8914\n",
      "Epoch 11/50, Train Loss: 0.8762\n",
      "Epoch 12/50, Train Loss: 0.8514\n",
      "Epoch 13/50, Train Loss: 0.8646\n",
      "Epoch 14/50, Train Loss: 0.8575\n",
      "Epoch 15/50, Train Loss: 0.8581\n",
      "Epoch 16/50, Train Loss: 0.8448\n",
      "Epoch 17/50, Train Loss: 0.8432\n",
      "Epoch 18/50, Train Loss: 0.8400\n",
      "Epoch 19/50, Train Loss: 0.8362\n",
      "Epoch 20/50, Train Loss: 0.8331\n",
      "Epoch 21/50, Train Loss: 0.8325\n",
      "Epoch 22/50, Train Loss: 0.8318\n",
      "Epoch 23/50, Train Loss: 0.8362\n",
      "Epoch 24/50, Train Loss: 0.8268\n",
      "Epoch 25/50, Train Loss: 0.8148\n",
      "Epoch 26/50, Train Loss: 0.8280\n",
      "Epoch 27/50, Train Loss: 0.8297\n",
      "Epoch 28/50, Train Loss: 0.8232\n",
      "Epoch 29/50, Train Loss: 0.8237\n",
      "Epoch 30/50, Train Loss: 0.8268\n",
      "Epoch 31/50, Train Loss: 0.8226\n",
      "Epoch 32/50, Train Loss: 0.8122\n",
      "Epoch 33/50, Train Loss: 0.8166\n",
      "Epoch 34/50, Train Loss: 0.8031\n",
      "Epoch 35/50, Train Loss: 0.8149\n",
      "Epoch 36/50, Train Loss: 0.8089\n",
      "Epoch 37/50, Train Loss: 0.8069\n",
      "Epoch 38/50, Train Loss: 0.8200\n",
      "Epoch 39/50, Train Loss: 0.8050\n",
      "Epoch 40/50, Train Loss: 0.8111\n",
      "Epoch 41/50, Train Loss: 0.8023\n",
      "Epoch 42/50, Train Loss: 0.8175\n",
      "Epoch 43/50, Train Loss: 0.8025\n",
      "Epoch 44/50, Train Loss: 0.7997\n",
      "Epoch 45/50, Train Loss: 0.7942\n",
      "Epoch 46/50, Train Loss: 0.8097\n",
      "Epoch 47/50, Train Loss: 0.7976\n",
      "Epoch 48/50, Train Loss: 0.8055\n",
      "Epoch 49/50, Train Loss: 0.7969\n",
      "Epoch 50/50, Train Loss: 0.7981\n"
     ]
    }
   ],
   "source": [
    "train(train_dataloader, model, 50)"
   ]
  },
  {
   "cell_type": "markdown",
   "metadata": {},
   "source": [
    "### Test trained model on unseen data"
   ]
  },
  {
   "cell_type": "code",
   "execution_count": 10,
   "metadata": {},
   "outputs": [],
   "source": [
    "avg_test_loss, acc = test(test_dataloader, model)"
   ]
  },
  {
   "cell_type": "code",
   "execution_count": 11,
   "metadata": {},
   "outputs": [
    {
     "name": "stdout",
     "output_type": "stream",
     "text": [
      "Accuracy on modified model: 92.33%\n",
      "Average test loss on modified model: 0.2803454554453492%\n"
     ]
    }
   ],
   "source": [
    "print(\"Accuracy on modified model: \" + str(acc) + \"%\")\n",
    "print(\"Average test loss on modified model: \" + str(avg_test_loss) + \"%\")"
   ]
  },
  {
   "cell_type": "code",
   "execution_count": null,
   "metadata": {},
   "outputs": [],
   "source": []
  }
 ],
 "metadata": {
  "kernelspec": {
   "display_name": "nn_project",
   "language": "python",
   "name": "python3"
  },
  "language_info": {
   "codemirror_mode": {
    "name": "ipython",
    "version": 3
   },
   "file_extension": ".py",
   "mimetype": "text/x-python",
   "name": "python",
   "nbconvert_exporter": "python",
   "pygments_lexer": "ipython3",
   "version": "3.9.18"
  }
 },
 "nbformat": 4,
 "nbformat_minor": 2
}
