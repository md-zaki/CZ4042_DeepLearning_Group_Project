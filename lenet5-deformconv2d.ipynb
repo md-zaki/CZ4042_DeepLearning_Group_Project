{
 "cells": [
  {
   "cell_type": "markdown",
   "metadata": {},
   "source": [
    "# Lenet-5 Model with Deformable Convolution Layers"
   ]
  },
  {
   "cell_type": "code",
   "execution_count": 1,
   "metadata": {},
   "outputs": [],
   "source": [
    "import torch\n",
    "from torchvision import datasets\n",
    "from torch.utils.data import DataLoader\n",
    "from torchvision.transforms import ToTensor\n",
    "import torch.nn as nn\n",
    "import random\n",
    "import numpy as np\n",
    "from torchvision.ops import deform_conv2d\n",
    "from torchvision.ops import DeformConv2d\n",
    "device = torch.device('cuda')\n",
    "from torchvision.transforms import v2\n",
    "from torch.utils.data import default_collate"
   ]
  },
  {
   "cell_type": "markdown",
   "metadata": {},
   "source": [
    "### Import Fashion MNIST Dataset"
   ]
  },
  {
   "cell_type": "code",
   "execution_count": 2,
   "metadata": {},
   "outputs": [],
   "source": [
    "# Download and load the MNIST dataset\n",
    "train_dataset = datasets.FashionMNIST(root='./data', train=True, download=True, transform= ToTensor())\n",
    "test_dataset = datasets.FashionMNIST(root='./data', train=False, download=True, transform=ToTensor())"
   ]
  },
  {
   "cell_type": "markdown",
   "metadata": {},
   "source": [
    "### Set Seed"
   ]
  },
  {
   "cell_type": "code",
   "execution_count": 3,
   "metadata": {},
   "outputs": [],
   "source": [
    "seed = 0\n",
    "\n",
    "random.seed(seed)\n",
    "torch.manual_seed(seed)\n",
    "torch.cuda.manual_seed(seed)\n",
    "np.random.seed(seed)\n",
    "torch.cuda.manual_seed_all(seed)\n",
    "torch.backends.cudnn.deterministic = True\n",
    "torch.backends.cudnn.benchmark = False"
   ]
  },
  {
   "cell_type": "markdown",
   "metadata": {},
   "source": [
    "### Dataloaders with collate function for data augmentation using cutmix and mixup"
   ]
  },
  {
   "cell_type": "code",
   "execution_count": 4,
   "metadata": {},
   "outputs": [],
   "source": [
    "batch_size = 50\n",
    "cutmix = v2.CutMix(num_classes=10)\n",
    "mixup = v2.MixUp(num_classes=10)\n",
    "cutmix_or_mixup = v2.RandomChoice([cutmix, mixup])\n",
    "def collate_fn(batch):\n",
    "    return cutmix_or_mixup(*default_collate(batch))\n",
    "\n",
    "train_dataloader_augment = DataLoader(train_dataset, batch_size=batch_size, shuffle=True, collate_fn=collate_fn) # train data augment with Mixup and CutMix\n",
    "train_dataloader = DataLoader(train_dataset, batch_size=batch_size, shuffle=True) # normal training data\n",
    "test_dataloader = DataLoader(test_dataset, batch_size= batch_size, shuffle=False)"
   ]
  },
  {
   "cell_type": "markdown",
   "metadata": {},
   "source": [
    "### Define LeNet5 CNN with Deformable Convolution Layers"
   ]
  },
  {
   "cell_type": "code",
   "execution_count": 5,
   "metadata": {},
   "outputs": [],
   "source": [
    "\n",
    "class LeNet5(nn.Module):\n",
    "    def __init__(self, input_shape=(1, 28, 28), num_classes=10):\n",
    "        super(LeNet5, self).__init__()\n",
    "        torch.manual_seed(seed)\n",
    "        self.offset1 = nn.Parameter(torch.randn(batch_size, 2*5*5, 24,24, requires_grad=True)*0.01)\n",
    "        self.offset2 = nn.Parameter(torch.randn(batch_size, 2*5*5, 8,8, requires_grad=True)*0.01)\n",
    "        \n",
    "        self.deformconv1 = DeformConv2d(1, 32, kernel_size=5, stride=1) # Using DeformConv2d for conv layers\n",
    "        self.batchnorm1 = nn.BatchNorm2d(32)\n",
    "        self.relu1 = nn.ReLU()\n",
    "        self.maxpool1 = nn.MaxPool2d(kernel_size=2, stride=2)\n",
    "\n",
    "        self.deformconv2 = DeformConv2d(32, 64, kernel_size=5, stride=1) # Using DeformConv2d for conv layers\n",
    "        self.batchnorm2 = nn.BatchNorm2d(64)\n",
    "        self.relu2 = nn.ReLU()\n",
    "        self.maxpool2 = nn.MaxPool2d(kernel_size=2, stride=2)\n",
    "        \n",
    "        self.classifier = nn.Sequential(\n",
    "            nn.Linear(64 * 4 * 4, 120),\n",
    "            nn.ReLU(),\n",
    "            nn.Linear(120, 84),\n",
    "            nn.ReLU(),\n",
    "            nn.Linear(84, num_classes)\n",
    "        )\n",
    "\n",
    "    def forward(self, x):\n",
    "        x = self.deformconv1(x, self.offset1) # Using DeformConv2d for conv layers\n",
    "        x = self.batchnorm1(x)\n",
    "        x = self.relu1(x)\n",
    "        x = self.maxpool1(x)\n",
    "        \n",
    "        x = self.deformconv2(x, self.offset2) # Using DeformConv2d for conv layers\n",
    "        x = self.batchnorm2(x)\n",
    "        x = self.relu2(x)\n",
    "        x = self.maxpool2(x)\n",
    "        \n",
    "        x = x.view(x.size(0), -1)\n",
    "        x = self.classifier(x)\n",
    "        return x"
   ]
  },
  {
   "cell_type": "code",
   "execution_count": 6,
   "metadata": {},
   "outputs": [],
   "source": [
    "loss_fn = nn.CrossEntropyLoss()\n",
    "device = torch.device('cuda')"
   ]
  },
  {
   "cell_type": "markdown",
   "metadata": {},
   "source": [
    "### Train Function"
   ]
  },
  {
   "cell_type": "code",
   "execution_count": 7,
   "metadata": {},
   "outputs": [],
   "source": [
    "def train(train_loader, model, epochs, optimizer):\n",
    "    for epoch in range(epochs):\n",
    "        model.train()\n",
    "        train_loss = 0.0\n",
    "        for images, labels in train_loader:\n",
    "            images, labels = images.to(device), labels.to(device)\n",
    "            optimizer.zero_grad()\n",
    "            output = model(images)\n",
    "            loss = loss_fn(output, labels)\n",
    "            loss.backward()\n",
    "            optimizer.step()\n",
    "            train_loss += loss.item()\n",
    "        # Calculate average training loss for the epoch\n",
    "        avg_train_loss = train_loss / len(train_dataloader)\n",
    "        print(f'Epoch {epoch + 1}/{epochs}, Train Loss: {avg_train_loss:.4f}')"
   ]
  },
  {
   "cell_type": "markdown",
   "metadata": {},
   "source": [
    "### Test Function"
   ]
  },
  {
   "cell_type": "code",
   "execution_count": 8,
   "metadata": {},
   "outputs": [],
   "source": [
    "def test(test_loader, model):\n",
    "    model.eval()\n",
    "    correct = 0\n",
    "    total = 0\n",
    "    test_loss = 0\n",
    "\n",
    "    with torch.no_grad():\n",
    "        for images, labels in test_loader:\n",
    "            images, labels = images.to(device), labels.to(device)\n",
    "            output = model(images)\n",
    "            loss = loss_fn(output, labels)\n",
    "            test_loss += loss.item()\n",
    "\n",
    "            _, predicted = torch.max(output, 1)\n",
    "            total += labels.size(0)\n",
    "            correct += (predicted == labels).sum().item()\n",
    "\n",
    "    # Calculate average validation loss and accuracy for the epoch\n",
    "    avg_test_loss = test_loss / len(test_dataloader)\n",
    "    accuracy = 100 * (correct / total)\n",
    "\n",
    "    return avg_test_loss, accuracy"
   ]
  },
  {
   "cell_type": "markdown",
   "metadata": {},
   "source": [
    "## Commence Training without data augmentation"
   ]
  },
  {
   "cell_type": "code",
   "execution_count": 9,
   "metadata": {},
   "outputs": [],
   "source": [
    "seed = 0\n",
    "random.seed(seed)\n",
    "torch.manual_seed(seed)\n",
    "torch.cuda.manual_seed(seed)\n",
    "np.random.seed(seed)\n",
    "torch.cuda.manual_seed_all(seed)\n",
    "torch.backends.cudnn.deterministic = True"
   ]
  },
  {
   "cell_type": "code",
   "execution_count": 10,
   "metadata": {},
   "outputs": [],
   "source": [
    "model = LeNet5().to(device)\n",
    "optimizer = torch.optim.Adam(model.parameters(), lr=0.001)"
   ]
  },
  {
   "cell_type": "code",
   "execution_count": 11,
   "metadata": {},
   "outputs": [
    {
     "name": "stdout",
     "output_type": "stream",
     "text": [
      "Epoch 1/50, Train Loss: 0.4112\n",
      "Epoch 2/50, Train Loss: 0.2835\n",
      "Epoch 3/50, Train Loss: 0.2515\n",
      "Epoch 4/50, Train Loss: 0.2216\n",
      "Epoch 5/50, Train Loss: 0.2006\n",
      "Epoch 6/50, Train Loss: 0.1790\n",
      "Epoch 7/50, Train Loss: 0.1693\n",
      "Epoch 8/50, Train Loss: 0.1545\n",
      "Epoch 9/50, Train Loss: 0.1400\n",
      "Epoch 10/50, Train Loss: 0.1303\n",
      "Epoch 11/50, Train Loss: 0.1212\n",
      "Epoch 12/50, Train Loss: 0.1139\n",
      "Epoch 13/50, Train Loss: 0.1040\n",
      "Epoch 14/50, Train Loss: 0.0971\n",
      "Epoch 15/50, Train Loss: 0.0954\n",
      "Epoch 16/50, Train Loss: 0.0905\n",
      "Epoch 17/50, Train Loss: 0.0809\n",
      "Epoch 18/50, Train Loss: 0.0793\n",
      "Epoch 19/50, Train Loss: 0.0746\n",
      "Epoch 20/50, Train Loss: 0.0720\n",
      "Epoch 21/50, Train Loss: 0.0674\n",
      "Epoch 22/50, Train Loss: 0.0669\n",
      "Epoch 23/50, Train Loss: 0.0639\n",
      "Epoch 24/50, Train Loss: 0.0608\n",
      "Epoch 25/50, Train Loss: 0.0602\n",
      "Epoch 26/50, Train Loss: 0.0611\n",
      "Epoch 27/50, Train Loss: 0.0555\n",
      "Epoch 28/50, Train Loss: 0.0530\n",
      "Epoch 29/50, Train Loss: 0.0519\n",
      "Epoch 30/50, Train Loss: 0.0501\n",
      "Epoch 31/50, Train Loss: 0.0463\n",
      "Epoch 32/50, Train Loss: 0.0492\n",
      "Epoch 33/50, Train Loss: 0.0482\n",
      "Epoch 34/50, Train Loss: 0.0451\n",
      "Epoch 35/50, Train Loss: 0.0440\n",
      "Epoch 36/50, Train Loss: 0.0441\n",
      "Epoch 37/50, Train Loss: 0.0412\n",
      "Epoch 38/50, Train Loss: 0.0421\n",
      "Epoch 39/50, Train Loss: 0.0406\n",
      "Epoch 40/50, Train Loss: 0.0405\n",
      "Epoch 41/50, Train Loss: 0.0406\n",
      "Epoch 42/50, Train Loss: 0.0382\n",
      "Epoch 43/50, Train Loss: 0.0369\n",
      "Epoch 44/50, Train Loss: 0.0391\n",
      "Epoch 45/50, Train Loss: 0.0366\n",
      "Epoch 46/50, Train Loss: 0.0345\n",
      "Epoch 47/50, Train Loss: 0.0352\n",
      "Epoch 48/50, Train Loss: 0.0346\n",
      "Epoch 49/50, Train Loss: 0.0335\n",
      "Epoch 50/50, Train Loss: 0.0358\n"
     ]
    }
   ],
   "source": [
    "train(train_dataloader, model, 50, optimizer)"
   ]
  },
  {
   "cell_type": "markdown",
   "metadata": {},
   "source": [
    "### Test trained model without data augmentation on unseen data"
   ]
  },
  {
   "cell_type": "code",
   "execution_count": 12,
   "metadata": {},
   "outputs": [],
   "source": [
    "avg_test_loss, acc = test(test_dataloader, model)"
   ]
  },
  {
   "cell_type": "code",
   "execution_count": 13,
   "metadata": {},
   "outputs": [
    {
     "name": "stdout",
     "output_type": "stream",
     "text": [
      "Accuracy on modified model: 91.25%\n",
      "Average test loss on modified model: 0.5138346299738623\n"
     ]
    }
   ],
   "source": [
    "print(\"Accuracy on modified model: \" + str(acc) + \"%\")\n",
    "print(\"Average test loss on modified model: \" + str(avg_test_loss))"
   ]
  },
  {
   "cell_type": "markdown",
   "metadata": {},
   "source": [
    "## Commence Training with MixUp and CutMix augmentation"
   ]
  },
  {
   "cell_type": "code",
   "execution_count": 14,
   "metadata": {},
   "outputs": [],
   "source": [
    "seed = 0\n",
    "random.seed(seed)\n",
    "torch.manual_seed(seed)\n",
    "torch.cuda.manual_seed(seed)\n",
    "np.random.seed(seed)\n",
    "torch.cuda.manual_seed_all(seed)\n",
    "torch.backends.cudnn.deterministic = True"
   ]
  },
  {
   "cell_type": "code",
   "execution_count": 15,
   "metadata": {},
   "outputs": [],
   "source": [
    "model = LeNet5().to(device)\n",
    "optimizer = torch.optim.Adam(model.parameters(), lr=0.001)"
   ]
  },
  {
   "cell_type": "code",
   "execution_count": 16,
   "metadata": {},
   "outputs": [
    {
     "name": "stdout",
     "output_type": "stream",
     "text": [
      "Epoch 1/50, Train Loss: 1.1533\n",
      "Epoch 2/50, Train Loss: 1.0097\n",
      "Epoch 3/50, Train Loss: 0.9738\n",
      "Epoch 4/50, Train Loss: 0.9472\n",
      "Epoch 5/50, Train Loss: 0.9133\n",
      "Epoch 6/50, Train Loss: 0.9089\n",
      "Epoch 7/50, Train Loss: 0.9096\n",
      "Epoch 8/50, Train Loss: 0.8882\n",
      "Epoch 9/50, Train Loss: 0.8739\n",
      "Epoch 10/50, Train Loss: 0.8917\n",
      "Epoch 11/50, Train Loss: 0.8759\n",
      "Epoch 12/50, Train Loss: 0.8522\n",
      "Epoch 13/50, Train Loss: 0.8649\n",
      "Epoch 14/50, Train Loss: 0.8572\n",
      "Epoch 15/50, Train Loss: 0.8578\n",
      "Epoch 16/50, Train Loss: 0.8454\n",
      "Epoch 17/50, Train Loss: 0.8431\n",
      "Epoch 18/50, Train Loss: 0.8396\n",
      "Epoch 19/50, Train Loss: 0.8367\n",
      "Epoch 20/50, Train Loss: 0.8360\n",
      "Epoch 21/50, Train Loss: 0.8313\n",
      "Epoch 22/50, Train Loss: 0.8328\n",
      "Epoch 23/50, Train Loss: 0.8368\n",
      "Epoch 24/50, Train Loss: 0.8268\n",
      "Epoch 25/50, Train Loss: 0.8155\n",
      "Epoch 26/50, Train Loss: 0.8281\n",
      "Epoch 27/50, Train Loss: 0.8295\n",
      "Epoch 28/50, Train Loss: 0.8216\n",
      "Epoch 29/50, Train Loss: 0.8228\n",
      "Epoch 30/50, Train Loss: 0.8262\n",
      "Epoch 31/50, Train Loss: 0.8234\n",
      "Epoch 32/50, Train Loss: 0.8111\n",
      "Epoch 33/50, Train Loss: 0.8172\n",
      "Epoch 34/50, Train Loss: 0.8036\n",
      "Epoch 35/50, Train Loss: 0.8142\n",
      "Epoch 36/50, Train Loss: 0.8089\n",
      "Epoch 37/50, Train Loss: 0.8068\n",
      "Epoch 38/50, Train Loss: 0.8196\n",
      "Epoch 39/50, Train Loss: 0.8061\n",
      "Epoch 40/50, Train Loss: 0.8103\n",
      "Epoch 41/50, Train Loss: 0.8015\n",
      "Epoch 42/50, Train Loss: 0.8184\n",
      "Epoch 43/50, Train Loss: 0.8044\n",
      "Epoch 44/50, Train Loss: 0.8005\n",
      "Epoch 45/50, Train Loss: 0.7933\n",
      "Epoch 46/50, Train Loss: 0.8098\n",
      "Epoch 47/50, Train Loss: 0.7985\n",
      "Epoch 48/50, Train Loss: 0.8064\n",
      "Epoch 49/50, Train Loss: 0.7957\n",
      "Epoch 50/50, Train Loss: 0.7993\n"
     ]
    }
   ],
   "source": [
    "train(train_dataloader_augment, model, 50, optimizer)"
   ]
  },
  {
   "cell_type": "markdown",
   "metadata": {},
   "source": [
    "### Test trained model with MixUp and CutMix augmentation on unseen data"
   ]
  },
  {
   "cell_type": "code",
   "execution_count": 17,
   "metadata": {},
   "outputs": [],
   "source": [
    "avg_test_loss, acc = test(test_dataloader, model)"
   ]
  },
  {
   "cell_type": "code",
   "execution_count": 18,
   "metadata": {},
   "outputs": [
    {
     "name": "stdout",
     "output_type": "stream",
     "text": [
      "Accuracy on base model: 92.23%\n",
      "Average test loss on base model: 0.28454340070486067\n"
     ]
    }
   ],
   "source": [
    "print(\"Accuracy on base model: \" + str(acc) + \"%\")\n",
    "print(\"Average test loss on base model: \" + str(avg_test_loss))"
   ]
  }
 ],
 "metadata": {
  "kernelspec": {
   "display_name": "nn_project",
   "language": "python",
   "name": "python3"
  },
  "language_info": {
   "codemirror_mode": {
    "name": "ipython",
    "version": 3
   },
   "file_extension": ".py",
   "mimetype": "text/x-python",
   "name": "python",
   "nbconvert_exporter": "python",
   "pygments_lexer": "ipython3",
   "version": "3.9.18"
  }
 },
 "nbformat": 4,
 "nbformat_minor": 2
}
