{
 "cells": [
  {
   "cell_type": "markdown",
   "metadata": {},
   "source": [
    "# Lenet-5 Model with increase in number of filters and added batch normalization"
   ]
  },
  {
   "cell_type": "code",
   "execution_count": 1,
   "metadata": {},
   "outputs": [],
   "source": [
    "import torch\n",
    "from torchvision import datasets\n",
    "from torch.utils.data import DataLoader\n",
    "from torchvision.transforms import ToTensor\n",
    "import torch.nn as nn\n",
    "import random\n",
    "import numpy as np\n",
    "from torch.utils.data import default_collate\n",
    "from torchvision.transforms import v2"
   ]
  },
  {
   "cell_type": "markdown",
   "metadata": {},
   "source": [
    "### Import Fashion MNIST Dataset"
   ]
  },
  {
   "cell_type": "code",
   "execution_count": 2,
   "metadata": {},
   "outputs": [],
   "source": [
    "# Download and load the MNIST dataset\n",
    "train_dataset = datasets.FashionMNIST(root='./data', train=True, download=True, transform= ToTensor())\n",
    "test_dataset = datasets.FashionMNIST(root='./data', train=False, download=True, transform=ToTensor())"
   ]
  },
  {
   "cell_type": "markdown",
   "metadata": {},
   "source": [
    "### Set Seed"
   ]
  },
  {
   "cell_type": "code",
   "execution_count": 3,
   "metadata": {},
   "outputs": [],
   "source": [
    "seed = 0\n",
    "\n",
    "random.seed(seed)\n",
    "torch.manual_seed(seed)\n",
    "torch.cuda.manual_seed(seed)\n",
    "np.random.seed(seed)\n",
    "torch.cuda.manual_seed_all(seed)\n",
    "torch.backends.cudnn.deterministic = True"
   ]
  },
  {
   "cell_type": "markdown",
   "metadata": {},
   "source": [
    "### Dataloaders with collate function for data augmentation using cutmix and mixup"
   ]
  },
  {
   "cell_type": "code",
   "execution_count": 4,
   "metadata": {},
   "outputs": [],
   "source": [
    "batch_size = 50\n",
    "cutmix = v2.CutMix(num_classes=10)\n",
    "mixup = v2.MixUp(num_classes=10)\n",
    "cutmix_or_mixup = v2.RandomChoice([cutmix, mixup])\n",
    "def collate_fn(batch):\n",
    "    return cutmix_or_mixup(*default_collate(batch))\n",
    "train_dataloader = DataLoader(train_dataset, batch_size=batch_size, shuffle=True, collate_fn=collate_fn)\n",
    "test_dataloader = DataLoader(test_dataset, batch_size= batch_size, shuffle=False)"
   ]
  },
  {
   "cell_type": "markdown",
   "metadata": {},
   "source": [
    "### Define LeNet5 CNN architecture with increase in filter size and batch norm 2d"
   ]
  },
  {
   "cell_type": "code",
   "execution_count": 5,
   "metadata": {},
   "outputs": [],
   "source": [
    "\n",
    "class LeNet5(nn.Module):\n",
    "    def __init__(self, input_shape=(1, 28, 28), num_classes=10):\n",
    "        super(LeNet5, self).__init__()\n",
    "        self.features = nn.Sequential(\n",
    "            nn.Conv2d(1, 32, kernel_size=5, stride=1),\n",
    "            nn.BatchNorm2d(32),\n",
    "            nn.ReLU(),\n",
    "            nn.MaxPool2d(kernel_size=2, stride=2),\n",
    "            nn.Conv2d(32, 64, kernel_size=5, stride=1),\n",
    "            nn.BatchNorm2d(64),\n",
    "            nn.ReLU(),\n",
    "            nn.MaxPool2d(kernel_size=2, stride=2)\n",
    "        )\n",
    "        self.classifier = nn.Sequential(\n",
    "            nn.Linear(64 * 4 * 4, 120),\n",
    "            nn.ReLU(),\n",
    "            nn.Linear(120, 84),\n",
    "            nn.ReLU(),\n",
    "            nn.Linear(84, num_classes)\n",
    "        )\n",
    "\n",
    "    def forward(self, x):\n",
    "        x = self.features(x)\n",
    "        x = x.view(x.size(0), -1)\n",
    "        x = self.classifier(x)\n",
    "        return x\n"
   ]
  },
  {
   "cell_type": "code",
   "execution_count": 6,
   "metadata": {},
   "outputs": [],
   "source": [
    "loss_fn = nn.CrossEntropyLoss()\n",
    "device = torch.device('cuda')\n",
    "model = LeNet5().to(device)\n",
    "optimizer = torch.optim.Adam(model.parameters(), lr=0.001)"
   ]
  },
  {
   "cell_type": "markdown",
   "metadata": {},
   "source": [
    "### Train Function"
   ]
  },
  {
   "cell_type": "code",
   "execution_count": 7,
   "metadata": {},
   "outputs": [],
   "source": [
    "def train(train_loader, model, epochs):\n",
    "    for epoch in range(epochs):\n",
    "        model.train()\n",
    "        train_loss = 0.0\n",
    "        for images, labels in train_loader:\n",
    "            images, labels = images.to(device), labels.to(device)\n",
    "            optimizer.zero_grad()\n",
    "            output = model(images)\n",
    "            loss = loss_fn(output, labels)\n",
    "            loss.backward()\n",
    "            optimizer.step()\n",
    "            train_loss += loss.item()\n",
    "        # Calculate average training loss for the epoch\n",
    "        avg_train_loss = train_loss / len(train_dataloader)\n",
    "        print(f'Epoch {epoch + 1}/{epochs}, Train Loss: {avg_train_loss:.4f}')"
   ]
  },
  {
   "cell_type": "markdown",
   "metadata": {},
   "source": [
    "### Test Function"
   ]
  },
  {
   "cell_type": "code",
   "execution_count": 8,
   "metadata": {},
   "outputs": [],
   "source": [
    "def test(test_loader, model):\n",
    "    model.eval()\n",
    "    correct = 0\n",
    "    total = 0\n",
    "    test_loss = 0\n",
    "\n",
    "    with torch.no_grad():\n",
    "        for images, labels in test_loader:\n",
    "            images, labels = images.to(device), labels.to(device)\n",
    "            output = model(images)\n",
    "            loss = loss_fn(output, labels)\n",
    "            test_loss += loss.item()\n",
    "\n",
    "            _, predicted = torch.max(output, 1)\n",
    "            total += labels.size(0)\n",
    "            correct += (predicted == labels).sum().item()\n",
    "\n",
    "    # Calculate average validation loss and accuracy for the epoch\n",
    "    avg_test_loss = test_loss / len(test_dataloader)\n",
    "    accuracy = 100 * (correct / total)\n",
    "\n",
    "    return avg_test_loss, accuracy"
   ]
  },
  {
   "cell_type": "markdown",
   "metadata": {},
   "source": [
    "### Commence Training"
   ]
  },
  {
   "cell_type": "code",
   "execution_count": 9,
   "metadata": {},
   "outputs": [
    {
     "name": "stdout",
     "output_type": "stream",
     "text": [
      "Epoch 1/50, Train Loss: 1.1611\n",
      "Epoch 2/50, Train Loss: 1.0095\n",
      "Epoch 3/50, Train Loss: 0.9565\n",
      "Epoch 4/50, Train Loss: 0.9431\n",
      "Epoch 5/50, Train Loss: 0.9212\n",
      "Epoch 6/50, Train Loss: 0.9053\n",
      "Epoch 7/50, Train Loss: 0.9045\n",
      "Epoch 8/50, Train Loss: 0.8933\n",
      "Epoch 9/50, Train Loss: 0.8790\n",
      "Epoch 10/50, Train Loss: 0.8747\n",
      "Epoch 11/50, Train Loss: 0.8531\n",
      "Epoch 12/50, Train Loss: 0.8649\n",
      "Epoch 13/50, Train Loss: 0.8563\n",
      "Epoch 14/50, Train Loss: 0.8411\n",
      "Epoch 15/50, Train Loss: 0.8366\n",
      "Epoch 16/50, Train Loss: 0.8473\n",
      "Epoch 17/50, Train Loss: 0.8442\n",
      "Epoch 18/50, Train Loss: 0.8284\n",
      "Epoch 19/50, Train Loss: 0.8174\n",
      "Epoch 20/50, Train Loss: 0.8336\n",
      "Epoch 21/50, Train Loss: 0.8222\n",
      "Epoch 22/50, Train Loss: 0.8165\n",
      "Epoch 23/50, Train Loss: 0.8200\n",
      "Epoch 24/50, Train Loss: 0.8176\n",
      "Epoch 25/50, Train Loss: 0.8114\n",
      "Epoch 26/50, Train Loss: 0.8000\n",
      "Epoch 27/50, Train Loss: 0.8189\n",
      "Epoch 28/50, Train Loss: 0.8154\n",
      "Epoch 29/50, Train Loss: 0.8058\n",
      "Epoch 30/50, Train Loss: 0.7964\n",
      "Epoch 31/50, Train Loss: 0.7944\n",
      "Epoch 32/50, Train Loss: 0.8062\n",
      "Epoch 33/50, Train Loss: 0.8036\n",
      "Epoch 34/50, Train Loss: 0.8053\n",
      "Epoch 35/50, Train Loss: 0.7897\n",
      "Epoch 36/50, Train Loss: 0.7925\n",
      "Epoch 37/50, Train Loss: 0.7862\n",
      "Epoch 38/50, Train Loss: 0.7911\n",
      "Epoch 39/50, Train Loss: 0.7955\n",
      "Epoch 40/50, Train Loss: 0.7877\n",
      "Epoch 41/50, Train Loss: 0.7960\n",
      "Epoch 42/50, Train Loss: 0.7803\n",
      "Epoch 43/50, Train Loss: 0.7774\n",
      "Epoch 44/50, Train Loss: 0.7928\n",
      "Epoch 45/50, Train Loss: 0.7818\n",
      "Epoch 46/50, Train Loss: 0.7806\n",
      "Epoch 47/50, Train Loss: 0.7743\n",
      "Epoch 48/50, Train Loss: 0.7925\n",
      "Epoch 49/50, Train Loss: 0.7786\n",
      "Epoch 50/50, Train Loss: 0.7817\n"
     ]
    }
   ],
   "source": [
    "train(train_dataloader, model, 50)"
   ]
  },
  {
   "cell_type": "markdown",
   "metadata": {},
   "source": [
    "### Test trained model on unseen data"
   ]
  },
  {
   "cell_type": "code",
   "execution_count": 10,
   "metadata": {},
   "outputs": [],
   "source": [
    "avg_test_loss, acc = test(test_dataloader, model)"
   ]
  },
  {
   "cell_type": "code",
   "execution_count": 11,
   "metadata": {},
   "outputs": [
    {
     "name": "stdout",
     "output_type": "stream",
     "text": [
      "Accuracy on modified model: 92.07%\n",
      "Average test loss on modified model: 0.26898992925882337%\n"
     ]
    }
   ],
   "source": [
    "print(\"Accuracy on modified model: \" + str(acc) + \"%\")\n",
    "print(\"Average test loss on modified model: \" + str(avg_test_loss) + \"%\")"
   ]
  },
  {
   "cell_type": "code",
   "execution_count": null,
   "metadata": {},
   "outputs": [],
   "source": []
  }
 ],
 "metadata": {
  "kernelspec": {
   "display_name": "nn_project",
   "language": "python",
   "name": "python3"
  },
  "language_info": {
   "codemirror_mode": {
    "name": "ipython",
    "version": 3
   },
   "file_extension": ".py",
   "mimetype": "text/x-python",
   "name": "python",
   "nbconvert_exporter": "python",
   "pygments_lexer": "ipython3",
   "version": "3.9.18"
  }
 },
 "nbformat": 4,
 "nbformat_minor": 2
}
