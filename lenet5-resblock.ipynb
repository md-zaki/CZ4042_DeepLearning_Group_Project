{
 "cells": [
  {
   "cell_type": "markdown",
   "metadata": {},
   "source": [
    "# Lenet-5 Model with Residual Block"
   ]
  },
  {
   "cell_type": "code",
   "execution_count": 1,
   "metadata": {},
   "outputs": [],
   "source": [
    "import torch\n",
    "from torchvision import datasets\n",
    "from torch.utils.data import DataLoader\n",
    "from torchvision.transforms import ToTensor\n",
    "import torch.nn as nn\n",
    "import random\n",
    "import numpy as np\n",
    "device = torch.device('cuda')\n",
    "from torchvision.ops import deform_conv2d\n",
    "from torchvision.ops import DeformConv2d\n",
    "from torch.utils.data import default_collate\n",
    "from torchvision.transforms import v2"
   ]
  },
  {
   "cell_type": "markdown",
   "metadata": {},
   "source": [
    "### Import Fashion MNIST Dataset"
   ]
  },
  {
   "cell_type": "code",
   "execution_count": 2,
   "metadata": {},
   "outputs": [],
   "source": [
    "# Download and load the MNIST dataset\n",
    "train_dataset = datasets.FashionMNIST(root='./data', train=True, download=True, transform= ToTensor())\n",
    "test_dataset = datasets.FashionMNIST(root='./data', train=False, download=True, transform=ToTensor())"
   ]
  },
  {
   "cell_type": "markdown",
   "metadata": {},
   "source": [
    "### Set Seed"
   ]
  },
  {
   "cell_type": "code",
   "execution_count": 3,
   "metadata": {},
   "outputs": [],
   "source": [
    "seed = 0\n",
    "\n",
    "random.seed(seed)\n",
    "torch.manual_seed(seed)\n",
    "torch.cuda.manual_seed(seed)\n",
    "np.random.seed(seed)\n",
    "torch.cuda.manual_seed_all(seed)\n",
    "torch.backends.cudnn.deterministic = True"
   ]
  },
  {
   "cell_type": "markdown",
   "metadata": {},
   "source": [
    "### Dataloaders with collate function for data augmentation using cutmix and mixup"
   ]
  },
  {
   "cell_type": "code",
   "execution_count": 4,
   "metadata": {},
   "outputs": [],
   "source": [
    "batch_size = 50\n",
    "cutmix = v2.CutMix(num_classes=10)\n",
    "mixup = v2.MixUp(num_classes=10)\n",
    "cutmix_or_mixup = v2.RandomChoice([cutmix, mixup])\n",
    "def collate_fn(batch):\n",
    "    return cutmix_or_mixup(*default_collate(batch))\n",
    "\n",
    "train_dataloader_augment = DataLoader(train_dataset, batch_size=batch_size, shuffle=True, collate_fn=collate_fn) # train data augment with Mixup and CutMix\n",
    "train_dataloader = DataLoader(train_dataset, batch_size=batch_size, shuffle=True) # normal training data\n",
    "test_dataloader = DataLoader(test_dataset, batch_size= batch_size, shuffle=False)"
   ]
  },
  {
   "cell_type": "markdown",
   "metadata": {},
   "source": [
    "### Define LeNet5 CNN with Residual Block architecture"
   ]
  },
  {
   "cell_type": "code",
   "execution_count": 5,
   "metadata": {},
   "outputs": [],
   "source": [
    "class ResidualBlock(nn.Module): # Residual block class to be added to existing architecture\n",
    "    def __init__(self, in_channels, out_channels, stride=1):\n",
    "        super(ResidualBlock, self).__init__()\n",
    "        self.offset1 = nn.Parameter(torch.randn(batch_size, 2*3*3, 12,12, requires_grad=True)*0.01)\n",
    "        self.offset2 = nn.Parameter(torch.randn(batch_size, 2*3*3, 12,12, requires_grad=True)*0.01)\n",
    "        self.conv1 = DeformConv2d(in_channels, out_channels, kernel_size=3, stride=stride, padding=1)\n",
    "        self.bn1 = nn.BatchNorm2d(out_channels)\n",
    "        self.relu = nn.ReLU()\n",
    "        self.conv2 = DeformConv2d(out_channels, out_channels, kernel_size=3, stride=1, padding=1)\n",
    "        self.bn2 = nn.BatchNorm2d(out_channels)\n",
    "        self.stride = stride\n",
    "\n",
    "    def forward(self, x):\n",
    "        residual = x\n",
    "\n",
    "        out = self.conv1(x, self.offset1)\n",
    "        out = self.bn1(out)\n",
    "        out = self.relu(out)\n",
    "\n",
    "        out = self.conv2(out, self.offset2)\n",
    "        out = self.bn2(out)\n",
    "\n",
    "        if self.stride != 1 or x.shape[1] != out.shape[1]:\n",
    "            residual = nn.Conv2d(x.shape[1], out.shape[1], kernel_size=1, stride=self.stride).to(device)(x)\n",
    "\n",
    "        out += residual # adding the residual to the output\n",
    "        out = self.relu(out)\n",
    "\n",
    "        return out\n",
    "\n",
    "class ModifiedLeNet5(nn.Module):\n",
    "    def __init__(self, input_shape=(1, 28, 28), num_classes=10):\n",
    "        super(ModifiedLeNet5, self).__init__()\n",
    "        self.deformconv1 = nn.Conv2d(1, 32, kernel_size=5, stride=1)\n",
    "        self.batchnorm1 = nn.BatchNorm2d(32)\n",
    "        self.relu1 = nn.ReLU()\n",
    "        self.maxpool1 = nn.MaxPool2d(kernel_size=2, stride=2)\n",
    "        self.residualblock = ResidualBlock(32, 64) # residual block added here\n",
    "        self.maxpool2 = nn.MaxPool2d(kernel_size=2, stride=2)\n",
    "        self.classifier = nn.Sequential(\n",
    "            nn.Linear(2304, 120),\n",
    "            nn.ReLU(),\n",
    "            nn.Linear(120, 84),\n",
    "            nn.ReLU(),\n",
    "            nn.Linear(84, num_classes)\n",
    "        )\n",
    "\n",
    "    def forward(self, x):\n",
    "        x = self.deformconv1(x)\n",
    "        x = self.batchnorm1(x)\n",
    "        x = self.relu1(x)\n",
    "        x = self.maxpool1(x)\n",
    "        x = self.residualblock(x)\n",
    "        x = self.maxpool2(x)\n",
    "        x = x.view(x.size(0), -1)\n",
    "        x = self.classifier(x)\n",
    "        return x"
   ]
  },
  {
   "cell_type": "code",
   "execution_count": 6,
   "metadata": {},
   "outputs": [],
   "source": [
    "loss_fn = nn.CrossEntropyLoss()\n",
    "device = torch.device('cuda')\n"
   ]
  },
  {
   "cell_type": "markdown",
   "metadata": {},
   "source": [
    "### Train Function"
   ]
  },
  {
   "cell_type": "code",
   "execution_count": 7,
   "metadata": {},
   "outputs": [],
   "source": [
    "def train(train_loader, model, epochs, optimizer):\n",
    "    for epoch in range(epochs):\n",
    "        model.train()\n",
    "        train_loss = 0.0\n",
    "        for images, labels in train_loader:\n",
    "            images, labels = images.to(device), labels.to(device)\n",
    "            optimizer.zero_grad()\n",
    "            output = model(images)\n",
    "            loss = loss_fn(output, labels)\n",
    "            loss.backward()\n",
    "            optimizer.step()\n",
    "            train_loss += loss.item()\n",
    "        # Calculate average training loss for the epoch\n",
    "        avg_train_loss = train_loss / len(train_dataloader)\n",
    "        print(f'Epoch {epoch + 1}/{epochs}, Train Loss: {avg_train_loss:.4f}')"
   ]
  },
  {
   "cell_type": "markdown",
   "metadata": {},
   "source": [
    "### Test Function"
   ]
  },
  {
   "cell_type": "code",
   "execution_count": 8,
   "metadata": {},
   "outputs": [],
   "source": [
    "def test(test_loader, model):\n",
    "    model.eval()\n",
    "    correct = 0\n",
    "    total = 0\n",
    "    test_loss = 0\n",
    "\n",
    "    with torch.no_grad():\n",
    "        for images, labels in test_loader:\n",
    "            images, labels = images.to(device), labels.to(device)\n",
    "            output = model(images)\n",
    "            loss = loss_fn(output, labels)\n",
    "            test_loss += loss.item()\n",
    "\n",
    "            _, predicted = torch.max(output, 1)\n",
    "            total += labels.size(0)\n",
    "            correct += (predicted == labels).sum().item()\n",
    "\n",
    "    # Calculate average validation loss and accuracy for the epoch\n",
    "    avg_test_loss = test_loss / len(test_dataloader)\n",
    "    accuracy = 100 * (correct / total)\n",
    "\n",
    "    return avg_test_loss, accuracy"
   ]
  },
  {
   "cell_type": "markdown",
   "metadata": {},
   "source": [
    "## Commence Training without data augmentation"
   ]
  },
  {
   "cell_type": "code",
   "execution_count": 9,
   "metadata": {},
   "outputs": [],
   "source": [
    "seed = 0\n",
    "random.seed(seed)\n",
    "torch.manual_seed(seed)\n",
    "torch.cuda.manual_seed(seed)\n",
    "np.random.seed(seed)\n",
    "torch.cuda.manual_seed_all(seed)\n",
    "torch.backends.cudnn.deterministic = True"
   ]
  },
  {
   "cell_type": "code",
   "execution_count": 10,
   "metadata": {},
   "outputs": [],
   "source": [
    "model = ModifiedLeNet5().to(device)\n",
    "optimizer = torch.optim.Adam(model.parameters(), lr=0.001)"
   ]
  },
  {
   "cell_type": "code",
   "execution_count": 11,
   "metadata": {},
   "outputs": [
    {
     "name": "stdout",
     "output_type": "stream",
     "text": [
      "Epoch 1/50, Train Loss: 0.3981\n",
      "Epoch 2/50, Train Loss: 0.2754\n",
      "Epoch 3/50, Train Loss: 0.2344\n",
      "Epoch 4/50, Train Loss: 0.2162\n",
      "Epoch 5/50, Train Loss: 0.1973\n",
      "Epoch 6/50, Train Loss: 0.1773\n",
      "Epoch 7/50, Train Loss: 0.1625\n",
      "Epoch 8/50, Train Loss: 0.1486\n",
      "Epoch 9/50, Train Loss: 0.1366\n",
      "Epoch 10/50, Train Loss: 0.1247\n",
      "Epoch 11/50, Train Loss: 0.1131\n",
      "Epoch 12/50, Train Loss: 0.1028\n",
      "Epoch 13/50, Train Loss: 0.0969\n",
      "Epoch 14/50, Train Loss: 0.0886\n",
      "Epoch 15/50, Train Loss: 0.0827\n",
      "Epoch 16/50, Train Loss: 0.0745\n",
      "Epoch 17/50, Train Loss: 0.0711\n",
      "Epoch 18/50, Train Loss: 0.0671\n",
      "Epoch 19/50, Train Loss: 0.0616\n",
      "Epoch 20/50, Train Loss: 0.0588\n",
      "Epoch 21/50, Train Loss: 0.0569\n",
      "Epoch 22/50, Train Loss: 0.0525\n",
      "Epoch 23/50, Train Loss: 0.0501\n",
      "Epoch 24/50, Train Loss: 0.0479\n",
      "Epoch 25/50, Train Loss: 0.0463\n",
      "Epoch 26/50, Train Loss: 0.0432\n",
      "Epoch 27/50, Train Loss: 0.0416\n",
      "Epoch 28/50, Train Loss: 0.0416\n",
      "Epoch 29/50, Train Loss: 0.0368\n",
      "Epoch 30/50, Train Loss: 0.0407\n",
      "Epoch 31/50, Train Loss: 0.0370\n",
      "Epoch 32/50, Train Loss: 0.0360\n",
      "Epoch 33/50, Train Loss: 0.0351\n",
      "Epoch 34/50, Train Loss: 0.0320\n",
      "Epoch 35/50, Train Loss: 0.0316\n",
      "Epoch 36/50, Train Loss: 0.0321\n",
      "Epoch 37/50, Train Loss: 0.0316\n",
      "Epoch 38/50, Train Loss: 0.0315\n",
      "Epoch 39/50, Train Loss: 0.0290\n",
      "Epoch 40/50, Train Loss: 0.0303\n",
      "Epoch 41/50, Train Loss: 0.0283\n",
      "Epoch 42/50, Train Loss: 0.0271\n",
      "Epoch 43/50, Train Loss: 0.0252\n",
      "Epoch 44/50, Train Loss: 0.0264\n",
      "Epoch 45/50, Train Loss: 0.0270\n",
      "Epoch 46/50, Train Loss: 0.0242\n",
      "Epoch 47/50, Train Loss: 0.0277\n",
      "Epoch 48/50, Train Loss: 0.0226\n",
      "Epoch 49/50, Train Loss: 0.0274\n",
      "Epoch 50/50, Train Loss: 0.0227\n"
     ]
    }
   ],
   "source": [
    "train(train_dataloader, model, 50, optimizer)"
   ]
  },
  {
   "cell_type": "markdown",
   "metadata": {},
   "source": [
    "### Test trained model without data augmentation on unseen data"
   ]
  },
  {
   "cell_type": "code",
   "execution_count": 12,
   "metadata": {},
   "outputs": [],
   "source": [
    "avg_test_loss, acc = test(test_dataloader, model)"
   ]
  },
  {
   "cell_type": "code",
   "execution_count": 13,
   "metadata": {},
   "outputs": [
    {
     "name": "stdout",
     "output_type": "stream",
     "text": [
      "Accuracy on modified model: 92.10000000000001%\n",
      "Average test loss on modified model: 0.4843415314843878\n"
     ]
    }
   ],
   "source": [
    "print(\"Accuracy on modified model: \" + str(acc) + \"%\")\n",
    "print(\"Average test loss on modified model: \" + str(avg_test_loss))"
   ]
  },
  {
   "cell_type": "markdown",
   "metadata": {},
   "source": [
    "## Commence Training with MixUp and CutMix augmentation"
   ]
  },
  {
   "cell_type": "code",
   "execution_count": 14,
   "metadata": {},
   "outputs": [],
   "source": [
    "seed = 0\n",
    "random.seed(seed)\n",
    "torch.manual_seed(seed)\n",
    "torch.cuda.manual_seed(seed)\n",
    "np.random.seed(seed)\n",
    "torch.cuda.manual_seed_all(seed)\n",
    "torch.backends.cudnn.deterministic = True"
   ]
  },
  {
   "cell_type": "code",
   "execution_count": 15,
   "metadata": {},
   "outputs": [],
   "source": [
    "model = ModifiedLeNet5().to(device)\n",
    "optimizer = torch.optim.Adam(model.parameters(), lr=0.001)"
   ]
  },
  {
   "cell_type": "code",
   "execution_count": 16,
   "metadata": {},
   "outputs": [
    {
     "name": "stdout",
     "output_type": "stream",
     "text": [
      "Epoch 1/50, Train Loss: 1.1406\n",
      "Epoch 2/50, Train Loss: 0.9874\n",
      "Epoch 3/50, Train Loss: 0.9355\n",
      "Epoch 4/50, Train Loss: 0.9116\n",
      "Epoch 5/50, Train Loss: 0.8910\n",
      "Epoch 6/50, Train Loss: 0.8670\n",
      "Epoch 7/50, Train Loss: 0.8494\n",
      "Epoch 8/50, Train Loss: 0.8353\n",
      "Epoch 9/50, Train Loss: 0.8303\n",
      "Epoch 10/50, Train Loss: 0.8245\n",
      "Epoch 11/50, Train Loss: 0.8274\n",
      "Epoch 12/50, Train Loss: 0.8082\n",
      "Epoch 13/50, Train Loss: 0.8053\n",
      "Epoch 14/50, Train Loss: 0.8064\n",
      "Epoch 15/50, Train Loss: 0.8009\n",
      "Epoch 16/50, Train Loss: 0.7927\n",
      "Epoch 17/50, Train Loss: 0.7974\n",
      "Epoch 18/50, Train Loss: 0.7949\n",
      "Epoch 19/50, Train Loss: 0.7876\n",
      "Epoch 20/50, Train Loss: 0.7999\n",
      "Epoch 21/50, Train Loss: 0.7805\n",
      "Epoch 22/50, Train Loss: 0.7729\n",
      "Epoch 23/50, Train Loss: 0.7859\n",
      "Epoch 24/50, Train Loss: 0.7782\n",
      "Epoch 25/50, Train Loss: 0.7849\n",
      "Epoch 26/50, Train Loss: 0.7715\n",
      "Epoch 27/50, Train Loss: 0.7760\n",
      "Epoch 28/50, Train Loss: 0.7707\n",
      "Epoch 29/50, Train Loss: 0.7706\n",
      "Epoch 30/50, Train Loss: 0.7820\n",
      "Epoch 31/50, Train Loss: 0.7639\n",
      "Epoch 32/50, Train Loss: 0.7566\n",
      "Epoch 33/50, Train Loss: 0.7647\n",
      "Epoch 34/50, Train Loss: 0.7518\n",
      "Epoch 35/50, Train Loss: 0.7573\n",
      "Epoch 36/50, Train Loss: 0.7538\n",
      "Epoch 37/50, Train Loss: 0.7495\n",
      "Epoch 38/50, Train Loss: 0.7616\n",
      "Epoch 39/50, Train Loss: 0.7586\n",
      "Epoch 40/50, Train Loss: 0.7587\n",
      "Epoch 41/50, Train Loss: 0.7567\n",
      "Epoch 42/50, Train Loss: 0.7561\n",
      "Epoch 43/50, Train Loss: 0.7574\n",
      "Epoch 44/50, Train Loss: 0.7519\n",
      "Epoch 45/50, Train Loss: 0.7522\n",
      "Epoch 46/50, Train Loss: 0.7477\n",
      "Epoch 47/50, Train Loss: 0.7367\n",
      "Epoch 48/50, Train Loss: 0.7387\n",
      "Epoch 49/50, Train Loss: 0.7475\n",
      "Epoch 50/50, Train Loss: 0.7543\n"
     ]
    }
   ],
   "source": [
    "train(train_dataloader_augment, model, 50, optimizer)"
   ]
  },
  {
   "cell_type": "markdown",
   "metadata": {},
   "source": [
    "### Test trained model with MixUp and CutMix augmentation on unseen data"
   ]
  },
  {
   "cell_type": "code",
   "execution_count": 17,
   "metadata": {},
   "outputs": [],
   "source": [
    "avg_test_loss, acc = test(test_dataloader, model)"
   ]
  },
  {
   "cell_type": "code",
   "execution_count": 18,
   "metadata": {},
   "outputs": [
    {
     "name": "stdout",
     "output_type": "stream",
     "text": [
      "Accuracy on base model: 92.71000000000001%\n",
      "Average test loss on base model: 0.26852341182529926\n"
     ]
    }
   ],
   "source": [
    "print(\"Accuracy on base model: \" + str(acc) + \"%\")\n",
    "print(\"Average test loss on base model: \" + str(avg_test_loss))"
   ]
  }
 ],
 "metadata": {
  "kernelspec": {
   "display_name": "nn_project",
   "language": "python",
   "name": "python3"
  },
  "language_info": {
   "codemirror_mode": {
    "name": "ipython",
    "version": 3
   },
   "file_extension": ".py",
   "mimetype": "text/x-python",
   "name": "python",
   "nbconvert_exporter": "python",
   "pygments_lexer": "ipython3",
   "version": "3.9.18"
  }
 },
 "nbformat": 4,
 "nbformat_minor": 2
}
