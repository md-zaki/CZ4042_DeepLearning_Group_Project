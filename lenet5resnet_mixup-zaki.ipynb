{
 "cells": [
  {
   "cell_type": "code",
   "execution_count": 1,
   "metadata": {},
   "outputs": [],
   "source": [
    "import torch\n",
    "from torchvision import datasets\n",
    "from torch.utils.data import DataLoader\n",
    "from torchvision.transforms import ToTensor\n",
    "import torch.nn as nn\n",
    "import random\n",
    "import numpy as np\n",
    "device = torch.device('cuda')\n",
    "from torch.utils.data import default_collate\n",
    "from torchvision.transforms import v2\n",
    "from torchvision.ops import deform_conv2d\n",
    "from torchvision.ops import DeformConv2d"
   ]
  },
  {
   "cell_type": "markdown",
   "metadata": {},
   "source": [
    "### Import Fashion MNIST Dataset"
   ]
  },
  {
   "cell_type": "code",
   "execution_count": 2,
   "metadata": {},
   "outputs": [],
   "source": [
    "# Download and load the MNIST dataset\n",
    "train_dataset = datasets.FashionMNIST(root='./data', train=True, download=True, transform= ToTensor())\n",
    "test_dataset = datasets.FashionMNIST(root='./data', train=False, download=True, transform=ToTensor())"
   ]
  },
  {
   "cell_type": "markdown",
   "metadata": {},
   "source": [
    "### Set Seed"
   ]
  },
  {
   "cell_type": "code",
   "execution_count": 3,
   "metadata": {},
   "outputs": [],
   "source": [
    "seed = 0\n",
    "\n",
    "random.seed(seed)\n",
    "torch.manual_seed(seed)\n",
    "torch.cuda.manual_seed(seed)\n",
    "np.random.seed(seed)\n",
    "torch.cuda.manual_seed_all(seed)\n",
    "torch.backends.cudnn.deterministic = True"
   ]
  },
  {
   "cell_type": "markdown",
   "metadata": {},
   "source": [
    "### Dataloaders and Mixup and Cutmix"
   ]
  },
  {
   "cell_type": "code",
   "execution_count": 4,
   "metadata": {},
   "outputs": [],
   "source": [
    "batch_size = 50\n",
    "cutmix = v2.CutMix(num_classes=10)\n",
    "mixup = v2.MixUp(num_classes=10)\n",
    "cutmix_or_mixup = v2.RandomChoice([cutmix, mixup])\n",
    "def collate_fn(batch):\n",
    "    return cutmix_or_mixup(*default_collate(batch))\n",
    "train_dataloader = DataLoader(train_dataset, batch_size=batch_size, shuffle=True, collate_fn=collate_fn)\n",
    "test_dataloader = DataLoader(test_dataset, batch_size= batch_size, shuffle=False)"
   ]
  },
  {
   "cell_type": "markdown",
   "metadata": {},
   "source": [
    "### Define LeNet5 CNN with Residual Block architecture"
   ]
  },
  {
   "cell_type": "code",
   "execution_count": 5,
   "metadata": {},
   "outputs": [],
   "source": [
    "class ResidualBlock(nn.Module):\n",
    "    def __init__(self, in_channels, out_channels, stride=1):\n",
    "        super(ResidualBlock, self).__init__()\n",
    "        self.offset1 = nn.Parameter(torch.randn(batch_size, 2*3*3, 12,12, requires_grad=True)*0.01)\n",
    "        self.offset2 = nn.Parameter(torch.randn(batch_size, 2*3*3, 12,12, requires_grad=True)*0.01)\n",
    "        self.conv1 = DeformConv2d(in_channels, out_channels, kernel_size=3, stride=stride, padding=1)\n",
    "        self.bn1 = nn.BatchNorm2d(out_channels)\n",
    "        self.relu = nn.ReLU()\n",
    "        self.conv2 = DeformConv2d(out_channels, out_channels, kernel_size=3, stride=1, padding=1)\n",
    "        self.bn2 = nn.BatchNorm2d(out_channels)\n",
    "        self.stride = stride\n",
    "\n",
    "    def forward(self, x):\n",
    "        residual = x\n",
    "\n",
    "        out = self.conv1(x, self.offset1)\n",
    "        out = self.bn1(out)\n",
    "        out = self.relu(out)\n",
    "\n",
    "        out = self.conv2(out, self.offset2)\n",
    "        out = self.bn2(out)\n",
    "\n",
    "        if self.stride != 1 or x.shape[1] != out.shape[1]:\n",
    "            residual = nn.Conv2d(x.shape[1], out.shape[1], kernel_size=1, stride=self.stride).to(device)(x)\n",
    "\n",
    "        out += residual\n",
    "        out = self.relu(out)\n",
    "\n",
    "        return out\n",
    "\n",
    "class ModifiedLeNet5(nn.Module):\n",
    "    def __init__(self, input_shape=(1, 28, 28), num_classes=10):\n",
    "        super(ModifiedLeNet5, self).__init__()\n",
    "        self.features = nn.Sequential(\n",
    "            nn.Conv2d(1, 32, kernel_size=5, stride=1),\n",
    "            nn.BatchNorm2d(32),\n",
    "            nn.ReLU(),\n",
    "            nn.MaxPool2d(kernel_size=2, stride=2),\n",
    "            ResidualBlock(32, 64),\n",
    "            nn.MaxPool2d(kernel_size=2, stride=2)\n",
    "        )\n",
    "        self.classifier = nn.Sequential(\n",
    "            nn.Linear(2304, 120),\n",
    "            nn.ReLU(),\n",
    "            nn.Linear(120, 84),\n",
    "            nn.ReLU(),\n",
    "            nn.Linear(84, num_classes)\n",
    "        )\n",
    "\n",
    "    def forward(self, x):\n",
    "        x = self.features(x)\n",
    "        x = x.view(x.size(0), -1)\n",
    "        x = self.classifier(x)\n",
    "        return x"
   ]
  },
  {
   "cell_type": "code",
   "execution_count": 6,
   "metadata": {},
   "outputs": [],
   "source": [
    "loss_fn = nn.CrossEntropyLoss()\n",
    "device = torch.device('cuda')\n",
    "model = ModifiedLeNet5().to(device)\n",
    "optimizer = torch.optim.Adam(model.parameters(), lr=0.001)"
   ]
  },
  {
   "cell_type": "markdown",
   "metadata": {},
   "source": [
    "### Train Function"
   ]
  },
  {
   "cell_type": "code",
   "execution_count": 7,
   "metadata": {},
   "outputs": [],
   "source": [
    "def train(train_loader, model, epochs):\n",
    "    for epoch in range(epochs):\n",
    "        model.train()\n",
    "        train_loss = 0.0\n",
    "        for images, labels in train_loader:\n",
    "            images, labels = images.to(device), labels.to(device)\n",
    "            optimizer.zero_grad()\n",
    "            output = model(images)\n",
    "            loss = loss_fn(output, labels)\n",
    "            loss.backward()\n",
    "            optimizer.step()\n",
    "            train_loss += loss.item()\n",
    "        # Calculate average training loss for the epoch\n",
    "        avg_train_loss = train_loss / len(train_dataloader)\n",
    "        print(f'Epoch {epoch + 1}/{epochs}, Train Loss: {avg_train_loss:.4f}')"
   ]
  },
  {
   "cell_type": "markdown",
   "metadata": {},
   "source": [
    "### Test Function"
   ]
  },
  {
   "cell_type": "code",
   "execution_count": 8,
   "metadata": {},
   "outputs": [],
   "source": [
    "def test(test_loader, model):\n",
    "    model.eval()\n",
    "    correct = 0\n",
    "    total = 0\n",
    "    test_loss = 0\n",
    "\n",
    "    with torch.no_grad():\n",
    "        for images, labels in test_loader:\n",
    "            images, labels = images.to(device), labels.to(device)\n",
    "            output = model(images)\n",
    "            loss = loss_fn(output, labels)\n",
    "            test_loss += loss.item()\n",
    "\n",
    "            _, predicted = torch.max(output, 1)\n",
    "            total += labels.size(0)\n",
    "            correct += (predicted == labels).sum().item()\n",
    "\n",
    "    # Calculate average validation loss and accuracy for the epoch\n",
    "    avg_test_loss = test_loss / len(test_dataloader)\n",
    "    accuracy = 100 * (correct / total)\n",
    "\n",
    "    return avg_test_loss, accuracy"
   ]
  },
  {
   "cell_type": "markdown",
   "metadata": {},
   "source": [
    "### Commence Training"
   ]
  },
  {
   "cell_type": "code",
   "execution_count": 9,
   "metadata": {},
   "outputs": [
    {
     "name": "stdout",
     "output_type": "stream",
     "text": [
      "Epoch 1/50, Train Loss: 1.1401\n",
      "Epoch 2/50, Train Loss: 0.9866\n",
      "Epoch 3/50, Train Loss: 0.9357\n",
      "Epoch 4/50, Train Loss: 0.9129\n",
      "Epoch 5/50, Train Loss: 0.8914\n",
      "Epoch 6/50, Train Loss: 0.8686\n",
      "Epoch 7/50, Train Loss: 0.8504\n",
      "Epoch 8/50, Train Loss: 0.8375\n",
      "Epoch 9/50, Train Loss: 0.8322\n",
      "Epoch 10/50, Train Loss: 0.8262\n",
      "Epoch 11/50, Train Loss: 0.8292\n",
      "Epoch 12/50, Train Loss: 0.8092\n",
      "Epoch 13/50, Train Loss: 0.8074\n",
      "Epoch 14/50, Train Loss: 0.8090\n",
      "Epoch 15/50, Train Loss: 0.8043\n",
      "Epoch 16/50, Train Loss: 0.7962\n",
      "Epoch 17/50, Train Loss: 0.7987\n",
      "Epoch 18/50, Train Loss: 0.7967\n",
      "Epoch 19/50, Train Loss: 0.7900\n",
      "Epoch 20/50, Train Loss: 0.8017\n",
      "Epoch 21/50, Train Loss: 0.7831\n",
      "Epoch 22/50, Train Loss: 0.7759\n",
      "Epoch 23/50, Train Loss: 0.7863\n",
      "Epoch 24/50, Train Loss: 0.7807\n",
      "Epoch 25/50, Train Loss: 0.7884\n",
      "Epoch 26/50, Train Loss: 0.7739\n",
      "Epoch 27/50, Train Loss: 0.7786\n",
      "Epoch 28/50, Train Loss: 0.7727\n",
      "Epoch 29/50, Train Loss: 0.7720\n",
      "Epoch 30/50, Train Loss: 0.7855\n",
      "Epoch 31/50, Train Loss: 0.7685\n",
      "Epoch 32/50, Train Loss: 0.7596\n",
      "Epoch 33/50, Train Loss: 0.7669\n",
      "Epoch 34/50, Train Loss: 0.7534\n",
      "Epoch 35/50, Train Loss: 0.7590\n",
      "Epoch 36/50, Train Loss: 0.7571\n",
      "Epoch 37/50, Train Loss: 0.7534\n",
      "Epoch 38/50, Train Loss: 0.7628\n",
      "Epoch 39/50, Train Loss: 0.7594\n",
      "Epoch 40/50, Train Loss: 0.7611\n",
      "Epoch 41/50, Train Loss: 0.7599\n",
      "Epoch 42/50, Train Loss: 0.7594\n",
      "Epoch 43/50, Train Loss: 0.7611\n",
      "Epoch 44/50, Train Loss: 0.7539\n",
      "Epoch 45/50, Train Loss: 0.7561\n",
      "Epoch 46/50, Train Loss: 0.7496\n",
      "Epoch 47/50, Train Loss: 0.7386\n",
      "Epoch 48/50, Train Loss: 0.7412\n",
      "Epoch 49/50, Train Loss: 0.7500\n",
      "Epoch 50/50, Train Loss: 0.7551\n"
     ]
    }
   ],
   "source": [
    "train(train_dataloader, model, 50)"
   ]
  },
  {
   "cell_type": "markdown",
   "metadata": {},
   "source": [
    "### Test trained model on unseen data"
   ]
  },
  {
   "cell_type": "code",
   "execution_count": 10,
   "metadata": {},
   "outputs": [],
   "source": [
    "avg_test_loss, acc = test(test_dataloader, model)"
   ]
  },
  {
   "cell_type": "code",
   "execution_count": 11,
   "metadata": {},
   "outputs": [
    {
     "name": "stdout",
     "output_type": "stream",
     "text": [
      "Accuracy on base model: 92.63%\n"
     ]
    }
   ],
   "source": [
    "print(\"Accuracy on base model: \" + str(acc) + \"%\")"
   ]
  },
  {
   "cell_type": "code",
   "execution_count": null,
   "metadata": {},
   "outputs": [],
   "source": []
  }
 ],
 "metadata": {
  "kernelspec": {
   "display_name": "nn_project",
   "language": "python",
   "name": "python3"
  },
  "language_info": {
   "codemirror_mode": {
    "name": "ipython",
    "version": 3
   },
   "file_extension": ".py",
   "mimetype": "text/x-python",
   "name": "python",
   "nbconvert_exporter": "python",
   "pygments_lexer": "ipython3",
   "version": "3.9.18"
  }
 },
 "nbformat": 4,
 "nbformat_minor": 2
}
